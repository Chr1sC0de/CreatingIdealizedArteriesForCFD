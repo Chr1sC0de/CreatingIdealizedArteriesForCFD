{
 "metadata": {
  "language_info": {
   "codemirror_mode": {
    "name": "ipython",
    "version": 3
   },
   "file_extension": ".py",
   "mimetype": "text/x-python",
   "name": "python",
   "nbconvert_exporter": "python",
   "pygments_lexer": "ipython3",
   "version": "3.7.5-final"
  },
  "orig_nbformat": 2,
  "kernelspec": {
   "name": "python3",
   "display_name": "Python 3"
  }
 },
 "nbformat": 4,
 "nbformat_minor": 2,
 "cells": [
  {
   "source": [
    "# Converting STEP files to Unstructured OpenFOAM Mesh with the Pointwise Python API "
   ],
   "cell_type": "markdown",
   "metadata": {}
  },
  {
   "source": [
    "We have previously outlined how to generate an unstructured mesh with pointwise interactively, however, when processing many cases we might need to perform the process programatically. Pointwise provides a convenient python based API to allow us to automate the procedure, however, when initially creating the program for debugging purposes we will need to view the outputs using the GUI. To visualize the program we can directly connect our program to an active pointwise Glyph Server."
   ],
   "cell_type": "markdown",
   "metadata": {}
  },
  {
   "source": [
    "## Activating the Glyph Server\n",
    "\n",
    "We start off by opening pointwise and opening the setting for our \"Glyph Server\":\n",
    "\n",
    "![glyph server](./images/python_api/glyph_server.PNG)"
   ],
   "cell_type": "markdown",
   "metadata": {}
  },
  {
   "source": [
    "We then set the \"Listen Mode\" to \"Active\" and take note of the \"Network Port\".\n",
    "\n",
    "![glyph server](./images/python_api/glyph_server_port.PNG)\n",
    "\n",
    "For the above case we see that our network port number is e 2807"
   ],
   "cell_type": "markdown",
   "metadata": {}
  },
  {
   "source": [
    "## Connecting to Glyph Server in Python\n",
    "First ensure that the pointwise [glyph client](https://pypi.org/project/pointwise-glyph-client/) is installed.\n",
    "Once installed let us initialize a glyph client and poinwise api using the port number from our glyph server."
   ],
   "cell_type": "markdown",
   "metadata": {}
  },
  {
   "cell_type": "code",
   "execution_count": 12,
   "metadata": {},
   "outputs": [],
   "source": [
    "from pointwise import GlyphClient\n",
    "# glyph client\n",
    "# if we want to run the code without using the pointwise GUI we can set the port to 0\n",
    "glf = GlyphClient(port=2807)\n",
    "# pointwise api\n",
    "pw = glf.get_glyphapi()"
   ]
  },
  {
   "cell_type": "code",
   "execution_count": 13,
   "metadata": {},
   "outputs": [],
   "source": [
    "# we can reset the application with the following command\n",
    "_ = pw.Application.reset()"
   ]
  },
  {
   "source": [
    "## Setting the Default Connector Dimension Spacing and Grid Preference \n",
    "When generating new connectors or creating new domains we can assign a default spacing for generated points as well as the type of generated domain"
   ],
   "cell_type": "markdown",
   "metadata": {}
  },
  {
   "cell_type": "code",
   "execution_count": 14,
   "metadata": {},
   "outputs": [
    {
     "output_type": "execute_result",
     "data": {
      "text/plain": [
       "[]"
      ]
     },
     "metadata": {},
     "execution_count": 14
    }
   ],
   "source": [
    "    # set a variable to define the dimension spacing\n",
    "    dimension_spacing = 0.2\n",
    "    # set the connector calculation method and spacing\n",
    "    pw.Connector.setCalculateDimensionMethod(\"Spacing\")\n",
    "    pw.Connector.setCalculateDimensionSpacing(dimension_spacing)\n",
    "    # no set the grid preference to unstructured grids\n",
    "    pw.Application.setGridPreference(\"Unstructured\")"
   ]
  },
  {
   "source": [
    "## Importing the Surface Database and Generating Surface Domains\n",
    "Some glyph object are transient which makes it convenient to use a Python context manager to automatically close the glyph. The following context manager creates an importer object and closes it once the database has been imported."
   ],
   "cell_type": "markdown",
   "metadata": {}
  },
  {
   "cell_type": "code",
   "execution_count": 15,
   "metadata": {},
   "outputs": [],
   "source": [
    "import pathlib as pt\n",
    "\n",
    "input_filename = pt.Path(\"./example.STEP\")\n",
    "\n",
    "with pw.Application.begin(\"DatabaseImport\") as databaseimport:\n",
    "    databaseimport.initialize(\n",
    "        \"-strict\", \"-type\", \"Automatic\", input_filename.absolute().as_posix()        \n",
    "    )\n",
    "    databaseimport.read()\n",
    "    databaseimport.convert()"
   ]
  },
  {
   "source": [
    "The Database which we want to use to create the domain is of type \"Model\". Let us get all the imported databases and search for the required model database"
   ],
   "cell_type": "markdown",
   "metadata": {}
  },
  {
   "cell_type": "code",
   "execution_count": 16,
   "metadata": {},
   "outputs": [
    {
     "output_type": "stream",
     "name": "stdout",
     "text": [
      "The total number of entities: 142\nThe model database entity: ::pw::Model_15 (NONE-56)\n"
     ]
    }
   ],
   "source": [
    "all_database_entities = pw.Database.getAll()\n",
    "print(\"The total number of entities:\", len(all_database_entities))\n",
    "for entity in all_database_entities:\n",
    "    if entity._type == \"pw::Model\":\n",
    "        model_database = entity\n",
    "print(\"The model database entity:\", model_database)"
   ]
  },
  {
   "source": [
    "As we now have the model database let us create domains along the database which will act as the walls of our mesh."
   ],
   "cell_type": "markdown",
   "metadata": {}
  },
  {
   "cell_type": "code",
   "execution_count": 17,
   "metadata": {},
   "outputs": [
    {
     "output_type": "stream",
     "name": "stdout",
     "text": [
      "[ ::pw::DomainUnstructured_151 (dom-1),\n::pw::DomainUnstructured_152 (dom-2),\n::pw::DomainUnstructured_153 (dom-3),\n::pw::DomainUnstructured_154 (dom-4),\n::pw::DomainUnstructured_155 (dom-5),\n::pw::DomainUnstructured_156 (dom-6),\n::pw::DomainUnstructured_157 (dom-7),\n::pw::DomainUnstructured_158 (dom-8),\n::pw::DomainUnstructured_159 (dom-9),\n::pw::DomainUnstructured_160 (dom-10),\n::pw::DomainUnstructured_161 (dom-11),\n::pw::DomainUnstructured_162 (dom-12) ]\n"
     ]
    }
   ],
   "source": [
    "\n",
    "wall_domains = pw.DomainUnstructured.createOnDatabase(\n",
    "    \"-parametricConnectors\", \"Aligned\", \"-merge\", 0, [model_database,]\n",
    ")\n",
    "# we have now generated the wall domains and stored them as a list\n",
    "print(\n",
    "    \"[\",\n",
    "    (\",\\n\").join([str(dom) for dom in wall_domains]),\n",
    "    \"]\"\n",
    ")"
   ]
  },
  {
   "source": [
    "# Creating the Domains for the Inlet and Outlets\n",
    "When the domains are connected so too are connectors which outline our mesh. The inlet and outlet domains are not yet generated, thus, if we can isolate the inlet and outlet connectors can create the appropriate domains."
   ],
   "cell_type": "markdown",
   "metadata": {}
  },
  {
   "cell_type": "code",
   "execution_count": 18,
   "metadata": {},
   "outputs": [
    {
     "output_type": "stream",
     "name": "stdout",
     "text": [
      "[ ::pw::DomainUnstructured_163 (dom-13),\n::pw::DomainUnstructured_164 (dom-14),\n::pw::DomainUnstructured_165 (dom-15) ]\n"
     ]
    }
   ],
   "source": [
    "# Create the sets of connectors which describe the inlet and outlet domains.\n",
    "# To do so we must know the appropriate names\n",
    "\n",
    "inlet_connector_names    = (\"con-1\", \"con-7\")\n",
    "outlet_1_connector_names = (\"con-28\", \"con-31\")\n",
    "outlet_2_connector_names = (\"con-35\", \"con-37\")\n",
    "\n",
    "inlet_outlet_connector_names = [inlet_connector_names, outlet_1_connector_names, outlet_2_connector_names]\n",
    "\n",
    "# get the inlet and outlet connectort objects\n",
    "inlet_outlet_connectors = [\n",
    "    [pw.GridEntity.getByName(con_name) for con_name in con_pair] for con_pair in\n",
    "    inlet_outlet_connector_names\n",
    "]\n",
    "# create the domains using the inlet and outlet connectors\n",
    "inlet_outlet_domains = [\n",
    "    pw.DomainUnstructured.createFromConnectors(connector_pair)[0] for\n",
    "    connector_pair in inlet_outlet_connectors\n",
    "]\n",
    "\n",
    "print(\n",
    "    \"[\",\n",
    "    (\",\\n\").join([str(dom) for dom in inlet_outlet_domains]),\n",
    "    \"]\"\n",
    ")"
   ]
  },
  {
   "source": [
    "### Converting the Inlet and Outlet Meshes to T-Rex Meshes and Refining\n",
    "Once the meshes have been generated we can once again use a context manager to access an \"UnstructuredSolver\" to convert the mesh to a T-Rex mesh and refine."
   ],
   "cell_type": "markdown",
   "metadata": {}
  },
  {
   "cell_type": "code",
   "execution_count": 19,
   "metadata": {},
   "outputs": [],
   "source": [
    "trex_maximum_layers = 6\n",
    "trex_growth_rate = 1.1\n",
    "wall_spacing = dimension_spacing/8\n",
    "# generate t-rex mesh for the inlet and outlet domains\n",
    "with pw.Application.begin(\"UnstructuredSolver\", inlet_outlet_domains) as unstruc_solver:\n",
    "    # use the create factory method to generate a T-Rex condition and apply the\n",
    "    # condition to the necessary domains and connectors\n",
    "    trex_condition = pw.TRexCondition.create()\n",
    "    trex_condition.setName(\"WALL\")\n",
    "    trex_condition.setConditionType(\"Wall\")\n",
    "    trex_condition.setValue(wall_spacing)\n",
    "    # isolate the inlet and outlet domains and create a domain, connecter type set\n",
    "    domain_connector_pairs = []\n",
    "    for domain, connector_pair in zip(inlet_outlet_domains, inlet_outlet_connectors):\n",
    "        for connector in connector_pair:\n",
    "            domain_connector_pairs.append(\n",
    "                [domain, connector, \"Same\"]\n",
    "            )\n",
    "    # apply the condition to all the connectors using the list of domain connector type sets\n",
    "    trex_condition.apply(domain_connector_pairs)\n",
    "    # create a collection of domains and set the unstructured solver attributes\n",
    "    for domain in inlet_outlet_domains:\n",
    "        domain.setUnstructuredSolverAttribute(\"TrexMaximumLayers\", trex_maximum_layers)\n",
    "        domain.setUnstructuredSolverAttribute(\"TrexGrowthRate\", trex_growth_rate)\n",
    "        domain.setUnstructuredSolverAttribute(\"TRexCellType\", \"TriangleQuad\")\n",
    "    # initialize and refine the domain\n",
    "    unstruc_solver.run(\"Initialize\")\n",
    "    unstruc_solver.run(\"Refine\")"
   ]
  },
  {
   "source": [
    "# Combining the Mesh into a Block and Generating the Internal Mesh\n",
    "As we only have the mesh for the boudary we need to generate the mesh of the internal field."
   ],
   "cell_type": "markdown",
   "metadata": {}
  },
  {
   "cell_type": "code",
   "execution_count": 20,
   "metadata": {},
   "outputs": [],
   "source": [
    "# create a list of all domains and create a block for meshing\n",
    "all_domains = []\n",
    "all_domains.extend(wall_domains)\n",
    "all_domains.extend(inlet_outlet_domains)\n",
    "# construct the block from all the domains\n",
    "block = pw.BlockUnstructured.createFromDomains(all_domains)[0]\n",
    "\n",
    "# set the boundary conditions of the block and then solve\n",
    "with pw.Application.begin(\"UnstructuredSolver\", block) as block_solver:\n",
    "    # get/create the necessary boundary conditions\n",
    "    wall_trex_condition  = pw.TRexCondition.getByName(\"WALL\")\n",
    "    match_trex_condition = pw.TRexCondition.create()\n",
    "    match_trex_condition.setName(\"MATCH\")\n",
    "\n",
    "    # create the list required to be placed into the WALL bc\n",
    "    block_wall_list = [ [block, dom, \"Opposite\"]  for dom in wall_domains ]\n",
    "    # create the list required to be placed into the MATCH bc\n",
    "    block_match_list = [ [block, dom, \"Same\"]  for dom in inlet_outlet_domains ]\n",
    "\n",
    "    # finally apply the correct t-rex condition to domains\n",
    "    wall_trex_condition.apply(block_wall_list)\n",
    "    match_trex_condition.apply(block_match_list)\n",
    "    # set the solver attributes\n",
    "    block.setUnstructuredSolverAttribute(\"TRexMaximumLayers\", trex_maximum_layers)\n",
    "    block.setUnstructuredSolverAttribute(\"TRexGrowthRate\", trex_growth_rate)\n",
    "    # set allow even if incomplete\n",
    "    block_solver.setStopWhenFullLayersNotMet(\"true\")\n",
    "    block_solver.setAllowIncomplete(\"true\")\n",
    "    # intiailize and refine the mesh\n",
    "    block_solver.run(\"Initialize\")\n",
    "    block_solver.run(\"Refine\")"
   ]
  },
  {
   "source": [
    "# Create the Boundary Conditions, Resizing the Mesh and Saving the OpenFoam PolyMesh\n",
    "\n",
    "After generating the mesh we can now assign the boundary conditions and convert it into OpenFoam PolyMesh format"
   ],
   "cell_type": "markdown",
   "metadata": {}
  },
  {
   "cell_type": "code",
   "execution_count": 21,
   "metadata": {},
   "outputs": [],
   "source": [
    "output_directory = pt.Path(\"./example_polymesh/\")\n",
    "# set the CAE solver\n",
    "pw.Application.setCAESolver(\"OpenFOAM\")\n",
    "\n",
    "# Create Boundary Conditions\n",
    "wall_bc = pw.BoundaryCondition.create()\n",
    "wall_bc.setName(\"WALL\")\n",
    "wall_bc.setPhysicalType(\"-usage\", \"CAE\", \"wall\")\n",
    "\n",
    "inlet_bc = pw.BoundaryCondition.create()\n",
    "inlet_bc.setName(\"INLET\")\n",
    "inlet_bc.setPhysicalType(\"-usage\", \"CAE\", \"patch\")\n",
    "\n",
    "outlet_1_bc = pw.BoundaryCondition.create()\n",
    "outlet_1_bc.setName(\"OUTLET-1\")\n",
    "outlet_1_bc.setPhysicalType(\"-usage\", \"CAE\", \"patch\")\n",
    "\n",
    "outlet_2_bc = pw.BoundaryCondition.create()\n",
    "outlet_2_bc.setName(\"OUTLET-2\")\n",
    "outlet_2_bc.setPhysicalType(\"-usage\", \"CAE\", \"patch\")\n",
    "\n",
    "# ensure scale the model to ensure that the model size is in mm\n",
    "with pw.Application.begin(\"Modify\", [block]) as modifier:\n",
    "    scaling  = Transform.scaling((0.001, 0.001, 0.001), anchor=(0,0,0))\n",
    "    entities = modifier.getEntities()\n",
    "    col      = pw.Collection()\n",
    "    col.set(entities)\n",
    "    pw.Entity.transform(scaling, col.list())\n",
    "\n",
    "\n",
    "# assign the correct domains to the boundary conditions\n",
    "\n",
    "wall_bc.apply([[block, dom] for dom in wall_domains])\n",
    "\n",
    "inlet_bc.apply([block, inlet_outlet_domains[0]])\n",
    "outlet_1_bc.apply([block, inlet_outlet_domains[1]])\n",
    "outlet_2_bc.apply([block, inlet_outlet_domains[2]])\n",
    "\n",
    "with pw.Application.begin(\"CaeExport\") as cae_exporter:\n",
    "    cae_exporter.addAllEntities()\n",
    "    cae_exporter.initialize(\n",
    "        \"-strict\", \"-type\", \"CAE\", output_directory.absolute().as_posix()\n",
    "    )\n",
    "    cae_exporter.verify()\n",
    "    cae_exporter.write()"
   ]
  }
 ]
}