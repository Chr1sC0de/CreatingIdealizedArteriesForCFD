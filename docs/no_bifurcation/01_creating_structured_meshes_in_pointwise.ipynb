{
 "metadata": {
  "language_info": {
   "codemirror_mode": {
    "name": "ipython",
    "version": 3
   },
   "file_extension": ".py",
   "mimetype": "text/x-python",
   "name": "python",
   "nbconvert_exporter": "python",
   "pygments_lexer": "ipython3",
   "version": "3.7.5-final"
  },
  "orig_nbformat": 2,
  "kernelspec": {
   "name": "python3",
   "display_name": "Python 3"
  }
 },
 "nbformat": 4,
 "nbformat_minor": 2,
 "cells": [
  {
   "source": [
    "# Creating Structured Meshes in Pointwise For Single Bifurcations"
   ],
   "cell_type": "markdown",
   "metadata": {}
  },
  {
   "cell_type": "code",
   "execution_count": 1,
   "metadata": {},
   "outputs": [],
   "source": [
    "import pymethods as pma\n",
    "import pymethods.pyplot as plt\n",
    "import numpy as np\n",
    "import matplotlib\n",
    "from pymethods.algorithms.transfinite_interpolation import Transfinite2d\n",
    "%matplotlib widget\n",
    "# Load surface points generated from our statistical shape model\n",
    "shape = np.load(\"shape.npy\")/1000"
   ]
  },
  {
   "source": [
    "To create our structured domain we need to create multiple quadrants for our mesh using the contours of our artery surface"
   ],
   "cell_type": "markdown",
   "metadata": {}
  },
  {
   "cell_type": "code",
   "execution_count": 2,
   "metadata": {},
   "outputs": [],
   "source": [
    "# let's create a function which creates a square within some contour\n",
    "def get_square_contour(contour, corner=[0.25, 0.25, 0], size=0.5):\n",
    "    contour                  = pma.arrays.FlatContour(contour)\n",
    "    transfinite_interpolator = Transfinite2d(contour)\n",
    "    square                   = pma.arrays.contourShapes.Square(size, npts=100, corner=corner)\n",
    "    square_edges             = square.transfinitable_corner_split()\n",
    "    contour_edges            = [transfinite_interpolator(*edge[0:2]) for edge in square_edges]\n",
    "    return contour_edges\n",
    "def get_inner_outer_connector(outer_edges, inner_edges):\n",
    "    output = []\n",
    "    for i, (outer, inner) in enumerate(zip(outer_edges, inner_edges)):\n",
    "        if i < 3:\n",
    "            output.append(pma.arrays.Vectorspace(np.stack((outer[:, 0], inner[:, 0]), axis=-1)))\n",
    "        else:\n",
    "            output.append(pma.arrays.Vectorspace(np.stack((outer_edges[1][:, -1], inner_edges[1][:, -1]), axis=-1)))\n",
    "    return output"
   ]
  },
  {
   "source": [
    "Bellow we show the OH topology created via transfinite interpolation"
   ],
   "cell_type": "markdown",
   "metadata": {}
  },
  {
   "cell_type": "code",
   "execution_count": 12,
   "metadata": {},
   "outputs": [
    {
     "output_type": "stream",
     "name": "stdout",
     "text": [
      "5.921354280977886e-06\n"
     ]
    },
    {
     "output_type": "display_data",
     "data": {
      "text/plain": "Canvas(toolbar=Toolbar(toolitems=[('Home', 'Reset original view', 'home', 'home'), ('Back', 'Back to previous …",
      "application/vnd.jupyter.widget-view+json": {
       "version_major": 2,
       "version_minor": 0,
       "model_id": "e345b9c996c744c1a9061fcc8bfe6b1b"
      }
     },
     "metadata": {}
    }
   ],
   "source": [
    "# plot the inlet contour and the interpolated edges\n",
    "plt.close()\n",
    "inlet_contour  = pma.arrays.Contour(shape[:, :, 0])\n",
    "outlet_contour = pma.arrays.Contour(shape[:, :, -1])\n",
    "\n",
    "inner_inlet_edges  = get_square_contour(shape[:, :, 0])\n",
    "inner_outlet_edges = get_square_contour(shape[:, :, -1])\n",
    "\n",
    "# cannot use corners of 0 or size of 1 as of yet\n",
    "outer_inlet_edges   = get_square_contour(shape[:, :, 0], corner=[0.000001, 0.000001, 0], size=0.99999)\n",
    "outer_outlet_edges  = get_square_contour(shape[:, :, -1], corner=[0.000001, 0.000001, 0], size=0.99999)\n",
    "\n",
    "# create the inner to outer connectors\n",
    "inlet_inner_outer_connector_edges  = get_inner_outer_connector(outer_inlet_edges, inner_inlet_edges)\n",
    "outlet_inner_outer_connector_edges = get_inner_outer_connector(outer_outlet_edges, inner_outlet_edges)\n",
    "\n",
    "fig = plt.figure(figsize=plt.figaspect(0.175))\n",
    "axes = [fig.add_subplot(1,3,i, projection=\"3d\") for i in range(1, 3)]\n",
    "\n",
    "[edge.plot3d(ax=axes[0], c=\"red\") for edge in inner_inlet_edges]\n",
    "[edge.plot3d(ax=axes[0], c=\"blue\") for edge in outer_inlet_edges]\n",
    "[edge.plot3d(ax=axes[0], c=\"green\") for edge in inlet_inner_outer_connector_edges]\n",
    "[edge[:, 0, None].plot3d(\".\", ax=axes[0], c=\"blue\") for edge in inlet_inner_outer_connector_edges]\n",
    "\n",
    "[edge.plot3d(ax=axes[1], c=\"red\") for edge in inner_outlet_edges]\n",
    "[edge.plot3d(ax=axes[1], c=\"blue\") for edge in outer_outlet_edges]\n",
    "[edge.plot3d(ax=axes[1], c=\"green\") for edge in outlet_inner_outer_connector_edges]\n",
    "[edge[:, 0, None].plot3d(\".\", ax=axes[1], c=\"blue\") for edge in outlet_inner_outer_connector_edges]\n",
    "\n",
    "plt.show()"
   ]
  },
  {
   "source": [
    "Let's now create the edges for the innner and outer domains of our oh topology"
   ],
   "cell_type": "markdown",
   "metadata": {}
  },
  {
   "cell_type": "code",
   "execution_count": 4,
   "metadata": {},
   "outputs": [],
   "source": [
    "# We will now extract the connectors which make the boundaries of the inner and outer domains\n",
    "inner_block_edges = []\n",
    "outer_block_edges = []\n",
    "for i in range(shape.shape[-1]):\n",
    "    contour = pma.arrays.FlatContour(\n",
    "        shape[:,:, i]\n",
    "    ).filter(11, 3)\n",
    "\n",
    "    transfinite_interpolator = Transfinite2d(contour)\n",
    "    square = pma.arrays.contourShapes.Square(\n",
    "        0.5, npts=100, corner=[0.25, 0.25, 0])[0:2]\n",
    "\n",
    "    npts = 100\n",
    "\n",
    "    middle = transfinite_interpolator(*square)\n",
    "\n",
    "    connector1 = transfinite_interpolator(\n",
    "        np.linspace(0, 0.25, npts), np.linspace(0, 0.25, npts))\n",
    "    connector2 = transfinite_interpolator(\n",
    "        np.linspace(0, 0.25, npts), np.linspace(1, 0.75, npts))\n",
    "    connector3 = transfinite_interpolator(\n",
    "        np.linspace(1, 0.75, npts), np.linspace(0, 0.25, npts))\n",
    "    connector4 = transfinite_interpolator(\n",
    "        np.linspace(1, 0.75, npts), np.linspace(1, 0.75, npts))\n",
    "\n",
    "    inner_block_edges.append(\n",
    "        np.stack((connector1[:, -1],connector2[:, -1],connector3[:, -1],connector4[:, -1]), axis=0)\n",
    "    )\n",
    "    outer_block_edges.append(\n",
    "        np.stack((connector1[:, 0],connector2[:, 0],connector3[:, 0],connector4[:, 0]), axis=0)\n",
    "    )\n",
    "outer_block_edges = np.stack(outer_block_edges, axis=-1)\n",
    "inner_block_edges = np.stack(inner_block_edges, axis=-1)\n"
   ]
  },
  {
   "cell_type": "code",
   "execution_count": 5,
   "metadata": {},
   "outputs": [],
   "source": [
    "# we need to make sure thate the connectors are flush against eash other\n",
    "def get_closest_point(point, comparison):\n",
    "    distances = np.linalg.norm(comparison - point.squeeze()[:, None], axis=0)\n",
    "    return np.argmin(distances)\n",
    "\n",
    "inner_inlet_points  = np.concatenate(inner_inlet_edges, axis=-1)\n",
    "inner_outlet_points = np.concatenate(inner_outlet_edges, axis=-1)\n",
    "\n",
    "outer_inlet_points  = np.concatenate(outer_inlet_edges, axis=-1)\n",
    "outer_outlet_points = np.concatenate(outer_outlet_edges, axis=-1)\n",
    "\n",
    "for i in range(len(inner_block_edges)):\n",
    "    inner_block_edges[i][:, 0]  = inner_inlet_points[:, get_closest_point(inner_block_edges[i][:, 0], inner_inlet_points)]\n",
    "    inner_block_edges[i][:, -1] = inner_outlet_points[:, get_closest_point(inner_block_edges[i][:, -1], inner_outlet_points)]\n",
    "\n",
    "for i in range(len(outer_block_edges)):\n",
    "    outer_block_edges[i][:, 0]  = outer_inlet_points[:, get_closest_point(outer_block_edges[i][:, 0], outer_inlet_points)]\n",
    "    outer_block_edges[i][:, -1] = outer_outlet_points[:, get_closest_point(outer_block_edges[i][:, -1], outer_outlet_points)]\n",
    "\n",
    "inner_block_edges = [pma.arrays.Vectorspace(edge) for edge in inner_block_edges]\n",
    "outer_block_edges = [pma.arrays.Vectorspace(edge) for edge in outer_block_edges]"
   ]
  },
  {
   "source": [
    "Bellow is a utility function for plotting the boundary edges"
   ],
   "cell_type": "markdown",
   "metadata": {}
  },
  {
   "cell_type": "code",
   "execution_count": 6,
   "metadata": {},
   "outputs": [],
   "source": [
    "def plot_outer_blocks(ids, ax, color, **kwargs):\n",
    "    inner_inlet_edges[ids[0]].plot3d(ax=ax, c=color, **kwargs)\n",
    "    outer_inlet_edges[ids[0]].plot3d(ax=ax, c=color, **kwargs)\n",
    "    inner_outlet_edges[ids[0]].plot3d(ax=ax, c=color, **kwargs)\n",
    "    outer_outlet_edges[ids[0]].plot3d(ax=ax, c=color, **kwargs)\n",
    "\n",
    "    inlet_inner_outer_connector_edges[ids[1][0]].plot3d(ax=ax, c=color, **kwargs)\n",
    "    inlet_inner_outer_connector_edges[ids[1][1]].plot3d(ax=ax, c=color, **kwargs)\n",
    "    outlet_inner_outer_connector_edges[ids[1][0]].plot3d(ax=ax, c=color, **kwargs)\n",
    "    outlet_inner_outer_connector_edges[ids[1][1]].plot3d(ax=ax, c=color, **kwargs)\n",
    "\n",
    "    inner_block_edges[ids[2][0]].plot3d(ax=ax, c=color, **kwargs)\n",
    "    inner_block_edges[ids[2][1]].plot3d(ax=ax, c=color, **kwargs)\n",
    "    outer_block_edges[ids[2][0]].plot3d(ax=ax, c=color, **kwargs)\n",
    "    outer_block_edges[ids[2][1]].plot3d(ax=ax, c=color, **kwargs)"
   ]
  },
  {
   "source": [
    "Now we can plot the scaffolding we have generated for our domain"
   ],
   "cell_type": "markdown",
   "metadata": {}
  },
  {
   "cell_type": "code",
   "execution_count": 7,
   "metadata": {},
   "outputs": [
    {
     "output_type": "display_data",
     "data": {
      "text/plain": "Canvas(toolbar=Toolbar(toolitems=[('Home', 'Reset original view', 'home', 'home'), ('Back', 'Back to previous …",
      "application/vnd.jupyter.widget-view+json": {
       "version_major": 2,
       "version_minor": 0,
       "model_id": "f49d7cb5e523450e97e12f638472334a"
      }
     },
     "metadata": {}
    }
   ],
   "source": [
    "f, ax = plt.figure_3d()\n",
    "a = 0.5\n",
    "plot_outer_blocks([0, (0, 1), (0, 2)], ax, \"red\", alpha=a)\n",
    "plot_outer_blocks([1, (1, 3), (2, 3)], ax, \"blue\", alpha=a)\n",
    "plot_outer_blocks([2, (2, 3), (1, 3)], ax, \"green\", alpha=a)\n",
    "plot_outer_blocks([3, (0, 2), (0, 1)], ax, \"purple\", alpha=a)\n",
    "\n",
    "plt.equal_aspect_3d()"
   ]
  },
  {
   "source": [
    "Finally we can create the meshes programatically in pointwise"
   ],
   "cell_type": "markdown",
   "metadata": {}
  },
  {
   "cell_type": "code",
   "execution_count": 8,
   "metadata": {},
   "outputs": [],
   "source": [
    "# a utility tool for creating connectors with pointwise\n",
    "def create_connectors(api, connector_list, dims):\n",
    "    connectors = []\n",
    "    with api.Application.begin(\"Create\") as creator:\n",
    "        for edge in connector_list:\n",
    "            seg = api.SegmentSpline()\n",
    "            [seg.addPoint(point) for point in edge.T]\n",
    "            con = api.Connector()\n",
    "            con.addSegment(seg)\n",
    "            con.setDimension(dims)\n",
    "            connectors.append(con)\n",
    "    creator.end()\n",
    "    return connectors"
   ]
  },
  {
   "cell_type": "code",
   "execution_count": 11,
   "metadata": {},
   "outputs": [],
   "source": [
    "from pointwise import GlyphClient\n",
    "# glf = GlyphClient(port=2807)\n",
    "glf = GlyphClient(port=0)\n",
    "# pointwise api\n",
    "pw = glf.get_glyphapi()\n",
    "# reset the client\n",
    "_ = pw.Application.reset()\n",
    "\n",
    "# create the inlet and outlet edges for the inner region\n",
    "inner_inlet_connectors = create_connectors(pw, inner_inlet_edges, 15)\n",
    "inner_outlet_connectors = create_connectors(pw, inner_outlet_edges, 15)\n",
    "# create the boundary of the inner region\n",
    "inner_block_connectors = create_connectors(pw, inner_block_edges, 150)\n",
    "\n",
    "# create the inlet and outlet edges for the outer region\n",
    "outer_inlet_connectors = create_connectors(pw, outer_inlet_edges, 15)\n",
    "outer_outlet_connectors = create_connectors(pw, outer_outlet_edges, 15)\n",
    "# create the boundary of the outer region\n",
    "outer_block_connectors = create_connectors(pw, outer_block_edges, 150)\n",
    "    \n",
    "# create the connectors that connect the inner and outer regions of the domain\n",
    "inlet_inner_outer_connectors = create_connectors(pw, inlet_inner_outer_connector_edges, 15)\n",
    "outlet_inner_outer_connectors = create_connectors(pw, outlet_inner_outer_connector_edges, 15)\n",
    "\n",
    "def create_outer_blocks(ids):\n",
    "    domains = []\n",
    "    # keep track of the domains on the inlet, outlet and walls to make setting the bc easier\n",
    "    inlet_patch = pw.DomainStructured.createFromConnectors(\n",
    "            [\n",
    "                inner_inlet_connectors[ids[0]],\n",
    "                outer_inlet_connectors[ids[0]],\n",
    "                inlet_inner_outer_connectors[ids[1][0]],\n",
    "                inlet_inner_outer_connectors[ids[1][1]]\n",
    "            ]\n",
    "        )\n",
    "\n",
    "    outlet_patch = pw.DomainStructured.createFromConnectors(\n",
    "            [\n",
    "                inner_outlet_connectors[ids[0]],\n",
    "                outer_outlet_connectors[ids[0]],\n",
    "                outlet_inner_outer_connectors[ids[1][0]],\n",
    "                outlet_inner_outer_connectors[ids[1][1]]\n",
    "            ]\n",
    "        )\n",
    "    wall_patch = pw.DomainStructured.createFromConnectors(\n",
    "            [\n",
    "                outer_inlet_connectors[ids[0]],\n",
    "                outer_outlet_connectors[ids[0]],\n",
    "                outer_block_connectors[ids[2][0]],\n",
    "                outer_block_connectors[ids[2][1]],\n",
    "            ]\n",
    "    )\n",
    "    domains.extend(\n",
    "        pw.DomainStructured.createFromConnectors(\n",
    "            [\n",
    "                inlet_inner_outer_connectors[ids[1][0]],\n",
    "                outlet_inner_outer_connectors[ids[1][0]],\n",
    "                inner_block_connectors[ids[2][0]],\n",
    "                outer_block_connectors[ids[2][0]]\n",
    "            ]\n",
    "        )\n",
    "    )\n",
    "    domains.extend(\n",
    "        pw.DomainStructured.createFromConnectors(\n",
    "            [\n",
    "                inlet_inner_outer_connectors[ids[1][1]],\n",
    "                outlet_inner_outer_connectors[ids[1][1]],\n",
    "                inner_block_connectors[ids[2][1]],\n",
    "                outer_block_connectors[ids[2][1]]\n",
    "            ]\n",
    "        )\n",
    "    )\n",
    "\n",
    "    domains.extend(\n",
    "        pw.DomainStructured.createFromConnectors(\n",
    "            [\n",
    "                inner_inlet_connectors[ids[0]],\n",
    "                inner_outlet_connectors[ids[0]],\n",
    "                inner_block_connectors[ids[2][0]],\n",
    "                inner_block_connectors[ids[2][1]],\n",
    "            ]\n",
    "        )\n",
    "    )\n",
    "\n",
    "    domains.extend(inlet_patch)\n",
    "    domains.extend(outlet_patch)\n",
    "    domains.extend(wall_patch)\n",
    "\n",
    "    return domains, inlet_patch, outlet_patch, wall_patch\n",
    "\n",
    "all_domains = []\n",
    "inlet_domains = []\n",
    "outlet_domains = []\n",
    "wall_domains = []\n",
    "# create the inner inlet and outlet domains\n",
    "inner_inlet_domain  = pw.DomainStructured.createFromConnectors(inner_inlet_connectors)\n",
    "inner_outlet_domain = pw.DomainStructured.createFromConnectors(inner_outlet_connectors)\n",
    "inlet_domains.extend(inner_inlet_domain)\n",
    "outlet_domains.extend(inner_outlet_domain)\n",
    "all_domains.extend(inner_inlet_domain)  \n",
    "all_domains.extend(inner_outlet_domain)\n",
    "# create the domains for the outer blocks using the connectors, which which we know the order of already\n",
    "connector_ids = [\n",
    "    [0, (0, 1), (0, 2)], [1, (1, 3), (2, 3)], [2, (2, 3), (1, 3)], [3, (0, 2), (0, 1)]\n",
    "]\n",
    "for ids in connector_ids:\n",
    "    all_doms, inlet, outlet, wall = create_outer_blocks(ids)\n",
    "    inlet_domains.extend(inlet)\n",
    "    outlet_domains.extend(outlet)\n",
    "    wall_domains.extend(wall)\n",
    "    all_domains.extend(all_doms)\n",
    "\n",
    "# now create the blocks\n",
    "blocks = pw.BlockStructured.createFromDomains(all_domains)\n",
    "\n",
    "# create the openfoam case\n",
    "pw.Application.setCAESolver(\"OpenFOAM\")\n",
    "\n",
    "wall_bc = pw.BoundaryCondition.create()\n",
    "wall_bc.setName(\"WALL\")\n",
    "wall_bc.setPhysicalType(\"-usage\", \"CAE\", \"wall\")\n",
    "\n",
    "inlet_bc = pw.BoundaryCondition.create()\n",
    "inlet_bc.setName(\"INLET\")\n",
    "inlet_bc.setPhysicalType(\"-usage\", \"CAE\", \"patch\")\n",
    "\n",
    "outlet_bc = pw.BoundaryCondition.create()\n",
    "outlet_bc.setName(\"OUTLET\")\n",
    "outlet_bc.setPhysicalType(\"-usage\", \"CAE\", \"patch\")\n",
    "\n",
    "inlet_bc.apply([\n",
    "    (pw.Block.getBlocksFromDomains(domain)[0], domain) for domain in inlet_domains\n",
    "])\n",
    "\n",
    "outlet_bc.apply([\n",
    "    (pw.Block.getBlocksFromDomains(domain)[0], domain) for domain in outlet_domains\n",
    "])\n",
    "\n",
    "wall_bc.apply([\n",
    "    (pw.Block.getBlocksFromDomains(domain)[0], domain) for domain in wall_domains\n",
    "])\n",
    "\n",
    "# now save the mesh\n",
    "import pathlib as pt\n",
    "save_folder = pt.Path(\"./test_foam/constant/polyMesh\")\n",
    "with pw.Application.begin(\"CaeExport\") as cae_exporter:\n",
    "    cae_exporter.addAllEntities()\n",
    "    cae_exporter.initialize(\n",
    "        \"-strict\", \"-type\", \"CAE\", save_folder.absolute().as_posix()\n",
    "    )\n",
    "    cae_exporter.verify()\n",
    "    cae_exporter.write()"
   ]
  },
  {
   "cell_type": "code",
   "execution_count": null,
   "metadata": {},
   "outputs": [],
   "source": []
  }
 ]
}